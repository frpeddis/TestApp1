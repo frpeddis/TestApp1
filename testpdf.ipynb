{
 "cells": [
  {
   "cell_type": "code",
   "execution_count": null,
   "id": "aecc7c3c-d01b-4be5-b5bd-687af9a02321",
   "metadata": {},
   "outputs": [],
   "source": [
    "import streamlit as st\n",
    "\n",
    "# Title\n",
    "st.title(\"PDF Viewer\")\n",
    "\n",
    "# Link to PDF\n",
    "pdf_url = \"https://github.com/frpeddis/TestApp1/blob/93b1fee0e377a121c753ff8d33c46227d11616b4/MAGIC%20DAY%20CALCULATOR%20ADVENTURE.pdf\"\n",
    "st.markdown(f\"Download [file.pdf]({pdf_url})\")\n",
    "\n",
    "# Open PDF in Streamlit\n",
    "if st.button(\"How to\"):\n",
    "    st.write(\"Here's the PDF:\")\n",
    "    st.write(f\"Download [file.pdf]({pdf_url}) and follow the instructions.\")\n",
    "    st.markdown(f'<iframe src=\"{pdf_url}\" width=\"100%\" height=\"600px\"></iframe>', unsafe_allow_html=True)\n"
   ]
  }
 ],
 "metadata": {
  "kernelspec": {
   "display_name": "Python 3 (ipykernel)",
   "language": "python",
   "name": "python3"
  },
  "language_info": {
   "name": ""
  }
 },
 "nbformat": 4,
 "nbformat_minor": 5
}
